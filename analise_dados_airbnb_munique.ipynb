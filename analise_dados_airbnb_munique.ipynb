{
  "nbformat": 4,
  "nbformat_minor": 0,
  "metadata": {
    "colab": {
      "name": "Analisando os Dados do Airbnb.ipynb",
      "provenance": [],
      "collapsed_sections": [
        "6-B_qtEaYEd-",
        "yz1urSUGW9iE",
        "iHXvvHIxaoNc"
      ],
      "include_colab_link": true
    },
    "kernelspec": {
      "name": "python3",
      "display_name": "Python 3"
    }
  },
  "cells": [
    {
      "cell_type": "markdown",
      "metadata": {
        "id": "view-in-github",
        "colab_type": "text"
      },
      "source": [
        "<a href=\"https://colab.research.google.com/github/anaprataa/portfolio/blob/main/analise_dados_airbnb_munique.ipynb\" target=\"_parent\"><img src=\"https://colab.research.google.com/assets/colab-badge.svg\" alt=\"Open In Colab\"/></a>"
      ]
    },
    {
      "cell_type": "markdown",
      "metadata": {
        "id": "kLI0gJtzDGuQ"
      },
      "source": [
        "# **Análise dos Dados do Airbnb - Munique, Alemanha**\n",
        "\n",
        "#### **Autora**: Ana Luiza Prata\n",
        "\n",
        "###### *Estudante de Engenharia Química na UFRRJ e aluna DSNP na [sigmoidal.ai](https://sigmoidal.ai)*\n",
        "\n",
        "---\n",
        "\n",
        "O [Airbnb](https://www.airbnb.com.br/) já é considerado como sendo a **maior empresa hoteleira da atualidade**. Ah, o detalhe é que ele **não possui nenhum hotel**!\n",
        "\n",
        "Conectando pessoas que querem viajar (e se hospedar) com anfitriões que querem alugar seus imóveis de maneira prática, o Airbnb fornece uma plataforma inovadora para tornar essa hospedagem alternativa.\n",
        "\n",
        "No final de 2018, a Startup fundada 10 anos atrás, já havia **hospedado mais de 300 milhões** de pessoas ao redor de todo o mundo, desafiando as redes hoteleiras tradicionais.\n",
        "\n",
        "Uma das iniciativas do Airbnb é disponibilizar dados do site, para algumas das principais cidades do mundo. Por meio do portal [Inside Airbnb](http://insideairbnb.com/get-the-data.html), é possível baixar uma grande quantidade de dados para desenvolver projetos e soluções de *Data Science*.\n",
        "\n",
        "<center><img alt=\"Analisando Airbnb\" width=\"20%\" src=\"https://www.area360.com.au/wp-content/uploads/2017/09/airbnb-logo.jpg\"></center>\n",
        "\n",
        "## **Oktoberfest**\n",
        "\n",
        "A Oktoberfest é o maior festival do mundo, recebendo cerca de seis milhões de visitantes anualmente em Munique (Alemanha).\n",
        "\n",
        "Tal festividade ocorre desde 1810 quando foi criado em celebração ao casamento do rei bavário Luís I. Ela acontece no parque ***Theresienwiese***, batizado em homenagem à noiva. A festa fez tanto sucesso que o rei ordenou a sua repetição e desde então ocorre todo ano.\n",
        "\n",
        "Pessoas do mundo inteiro viajam para a Oktoberfest para consumir as cervejas [***Märzen***](https://www.oktoberfest.net/cerveja-oktoberfest/) produzidas pelas 6 tradicionais fábricas de cerveja de Munique. Além das cervejas, o evento também é recheado de atrações musicais e feiras.\n",
        "\n",
        "<center><img alt=\"Oktoberfest\" width=\"50%\" src=\"https://simonde.com.br/wp-content/uploads/2018/08/u-by-uniworld-oktoberfest-10-dicas-para-aproveitar-o-melhor-munique-alemanha-munich-1200-5.jpg\"></center>\n",
        "\n",
        "## **Cenário**\n",
        "\n",
        "Neste projeto, iremos considerar uma situação hipotética como forma de mostrar que a análise de dados pode ser aplicada em benefício não somente das tomadas de decisão em empresas, mas também na hora de planejar uma viagem. Por que não?\n",
        "\n",
        "Uma dupla de amigas de trabalho estão prestes a sair de férias e decidiram que gostariam de viajar para a Alemanha e conhecer a Oktoberfest. O objetivo delas é visitar o evento durante dois dias seguidos, então será necessário arrumar hospedagem para quatro dias.\n",
        "\n",
        "Como o valor do euro é alto, elas precisam escolher dentre todas as opções que existem no app do Airbnb, aquela que melhor combina custo de hospedagem com distância até o evento, já que também podem existir gastos com deslocamento.\n",
        "\n",
        "Em vista desses critérios, iremos analisar os dados mencionados anteriormente e propôr uma solução para esse impasse."
      ]
    },
    {
      "cell_type": "markdown",
      "metadata": {
        "id": "QugjpEGXjdMG"
      },
      "source": [
        "## **Objetivo**\n",
        "\n",
        "Neste *notebook*, iremos analisar os dados referentes à cidade de Munique (Alemanha) e determinar qual o melhor Airbnb em termos de custo-benefício. Quando falamos de custo-benefício, significa que queremos encontrar o imóvel que melhor combina valor de hospedagem com distância até o evento. Além disso, iremos ver quais insights a mais podem ser extraídos a partir desses dados."
      ]
    },
    {
      "cell_type": "markdown",
      "metadata": {
        "id": "0zxQHhIUDF_2"
      },
      "source": [
        "## **Obtenção dos Dados**\n"
      ]
    },
    {
      "cell_type": "code",
      "metadata": {
        "id": "Vhp2wMPgJ6zX"
      },
      "source": [
        "# importar os pacotes necessarios\n",
        "import pandas as pd\n",
        "import matplotlib.pyplot as plt\n",
        "import seaborn as sns\n",
        "import numpy as np\n",
        "from math import pi\n",
        "\n",
        "%matplotlib inline"
      ],
      "execution_count": null,
      "outputs": []
    },
    {
      "cell_type": "code",
      "metadata": {
        "id": "tUmoAT8DLQ5T"
      },
      "source": [
        "# importar o arquivo listings.csv para um DataFrame\n",
        "df = pd.read_csv('https://raw.githubusercontent.com/anaprataa/portfolio/main/Dados%20do%20Airbnb%20-%20Munique/listings.csv')"
      ],
      "execution_count": null,
      "outputs": []
    },
    {
      "cell_type": "markdown",
      "metadata": {
        "id": "qb5By2nIMS6m"
      },
      "source": [
        "## **Análise dos Dados**\n"
      ]
    },
    {
      "cell_type": "markdown",
      "metadata": {
        "id": "RYgvuebKNg8-"
      },
      "source": [
        "Antes de iniciar qualquer análise, vamos verificar o conteúdo do nosso *dataset*, analisando as 5 primeiras linhas."
      ]
    },
    {
      "cell_type": "code",
      "metadata": {
        "id": "2iS_dae7YQtO",
        "colab": {
          "base_uri": "https://localhost:8080/",
          "height": 485
        },
        "outputId": "65ab2cb6-5cbf-43e7-c64a-349ea4962ac4"
      },
      "source": [
        "# mostrar as 5 primeiras entradas\n",
        "df.head()"
      ],
      "execution_count": null,
      "outputs": [
        {
          "output_type": "execute_result",
          "data": {
            "text/html": [
              "<div>\n",
              "<style scoped>\n",
              "    .dataframe tbody tr th:only-of-type {\n",
              "        vertical-align: middle;\n",
              "    }\n",
              "\n",
              "    .dataframe tbody tr th {\n",
              "        vertical-align: top;\n",
              "    }\n",
              "\n",
              "    .dataframe thead th {\n",
              "        text-align: right;\n",
              "    }\n",
              "</style>\n",
              "<table border=\"1\" class=\"dataframe\">\n",
              "  <thead>\n",
              "    <tr style=\"text-align: right;\">\n",
              "      <th></th>\n",
              "      <th>id</th>\n",
              "      <th>name</th>\n",
              "      <th>host_id</th>\n",
              "      <th>host_name</th>\n",
              "      <th>neighbourhood_group</th>\n",
              "      <th>neighbourhood</th>\n",
              "      <th>latitude</th>\n",
              "      <th>longitude</th>\n",
              "      <th>room_type</th>\n",
              "      <th>price</th>\n",
              "      <th>minimum_nights</th>\n",
              "      <th>number_of_reviews</th>\n",
              "      <th>last_review</th>\n",
              "      <th>reviews_per_month</th>\n",
              "      <th>calculated_host_listings_count</th>\n",
              "      <th>availability_365</th>\n",
              "    </tr>\n",
              "  </thead>\n",
              "  <tbody>\n",
              "    <tr>\n",
              "      <th>0</th>\n",
              "      <td>97945</td>\n",
              "      <td>Deluxw-Apartm. with roof terrace</td>\n",
              "      <td>517685</td>\n",
              "      <td>Angelika</td>\n",
              "      <td>NaN</td>\n",
              "      <td>Hadern</td>\n",
              "      <td>48.11492</td>\n",
              "      <td>11.48954</td>\n",
              "      <td>Entire home/apt</td>\n",
              "      <td>80</td>\n",
              "      <td>2</td>\n",
              "      <td>129</td>\n",
              "      <td>2019-09-30</td>\n",
              "      <td>1.17</td>\n",
              "      <td>2</td>\n",
              "      <td>3</td>\n",
              "    </tr>\n",
              "    <tr>\n",
              "      <th>1</th>\n",
              "      <td>114695</td>\n",
              "      <td>Apartment Munich/East with sundeck</td>\n",
              "      <td>581737</td>\n",
              "      <td>Stephan</td>\n",
              "      <td>NaN</td>\n",
              "      <td>Berg am Laim</td>\n",
              "      <td>48.12071</td>\n",
              "      <td>11.63758</td>\n",
              "      <td>Entire home/apt</td>\n",
              "      <td>95</td>\n",
              "      <td>2</td>\n",
              "      <td>53</td>\n",
              "      <td>2019-10-03</td>\n",
              "      <td>0.50</td>\n",
              "      <td>2</td>\n",
              "      <td>99</td>\n",
              "    </tr>\n",
              "    <tr>\n",
              "      <th>2</th>\n",
              "      <td>127383</td>\n",
              "      <td>City apartment next to Pinakothek</td>\n",
              "      <td>630556</td>\n",
              "      <td>Sonja</td>\n",
              "      <td>NaN</td>\n",
              "      <td>Maxvorstadt</td>\n",
              "      <td>48.15199</td>\n",
              "      <td>11.56482</td>\n",
              "      <td>Entire home/apt</td>\n",
              "      <td>99</td>\n",
              "      <td>2</td>\n",
              "      <td>95</td>\n",
              "      <td>2020-08-16</td>\n",
              "      <td>1.04</td>\n",
              "      <td>1</td>\n",
              "      <td>3</td>\n",
              "    </tr>\n",
              "    <tr>\n",
              "      <th>3</th>\n",
              "      <td>159634</td>\n",
              "      <td>Fancy, bright central roof top flat</td>\n",
              "      <td>765694</td>\n",
              "      <td>Sanna</td>\n",
              "      <td>NaN</td>\n",
              "      <td>Pasing-Obermenzing</td>\n",
              "      <td>48.13855</td>\n",
              "      <td>11.46586</td>\n",
              "      <td>Entire home/apt</td>\n",
              "      <td>52</td>\n",
              "      <td>5</td>\n",
              "      <td>34</td>\n",
              "      <td>2019-06-24</td>\n",
              "      <td>0.37</td>\n",
              "      <td>1</td>\n",
              "      <td>0</td>\n",
              "    </tr>\n",
              "    <tr>\n",
              "      <th>4</th>\n",
              "      <td>170154</td>\n",
              "      <td>Own floor &amp; bath, parking &amp; breakfast</td>\n",
              "      <td>108297</td>\n",
              "      <td>Alex</td>\n",
              "      <td>NaN</td>\n",
              "      <td>Sendling-Westpark</td>\n",
              "      <td>48.10814</td>\n",
              "      <td>11.52733</td>\n",
              "      <td>Private room</td>\n",
              "      <td>55</td>\n",
              "      <td>2</td>\n",
              "      <td>480</td>\n",
              "      <td>2020-03-04</td>\n",
              "      <td>4.54</td>\n",
              "      <td>1</td>\n",
              "      <td>211</td>\n",
              "    </tr>\n",
              "  </tbody>\n",
              "</table>\n",
              "</div>"
            ],
            "text/plain": [
              "       id  ... availability_365\n",
              "0   97945  ...                3\n",
              "1  114695  ...               99\n",
              "2  127383  ...                3\n",
              "3  159634  ...                0\n",
              "4  170154  ...              211\n",
              "\n",
              "[5 rows x 16 columns]"
            ]
          },
          "metadata": {},
          "execution_count": 3
        }
      ]
    },
    {
      "cell_type": "markdown",
      "metadata": {
        "id": "6-B_qtEaYEd-"
      },
      "source": [
        "### **Q1. Quantos atributos (variáveis) e quantas entradas o nosso conjunto de dados possui? Quais os tipos das variáveis?**"
      ]
    },
    {
      "cell_type": "code",
      "metadata": {
        "id": "TFRK0tniLV-G",
        "colab": {
          "base_uri": "https://localhost:8080/"
        },
        "outputId": "5d927ce3-353c-473c-f82e-de11235a5685"
      },
      "source": [
        "# identificar o volume de dados do DataFrame\n",
        "print(\"O dataset possui {} linhas e {} colunas.\".format(df.shape[0], df.shape[1]))\n",
        "\n",
        "print()\n",
        "\n",
        "# verificar os tipos de cada variável\n",
        "df.dtypes"
      ],
      "execution_count": null,
      "outputs": [
        {
          "output_type": "stream",
          "name": "stdout",
          "text": [
            "O dataset possui 5039 linhas e 16 colunas.\n",
            "\n"
          ]
        },
        {
          "output_type": "execute_result",
          "data": {
            "text/plain": [
              "id                                  int64\n",
              "name                               object\n",
              "host_id                             int64\n",
              "host_name                          object\n",
              "neighbourhood_group               float64\n",
              "neighbourhood                      object\n",
              "latitude                          float64\n",
              "longitude                         float64\n",
              "room_type                          object\n",
              "price                               int64\n",
              "minimum_nights                      int64\n",
              "number_of_reviews                   int64\n",
              "last_review                        object\n",
              "reviews_per_month                 float64\n",
              "calculated_host_listings_count      int64\n",
              "availability_365                    int64\n",
              "dtype: object"
            ]
          },
          "metadata": {},
          "execution_count": 4
        }
      ]
    },
    {
      "cell_type": "markdown",
      "metadata": {
        "id": "PaVFcRtfbz9H"
      },
      "source": [
        "Podemos perceber que existem **16 variáveis** nesse dataset. Suas descrições estão contidas na tabela abaixo.\n",
        "\n",
        "| Variável | Descrição |\n",
        "|---|---|\n",
        "|**id**|Número de identificação do imóvel.|\n",
        "|**name**|Nome do imóvel anunciado.|\n",
        "|**host_id**|Número de identificação do proprietário do imóvel.|\n",
        "|**host_name**|Nome do proprietário.|\n",
        "|**neighbourhood_group**|Coluna vazia.|\n",
        "|**neighbourhood**|Nome do bairro.|\n",
        "|**latitude**|Coordenada da latitude da propriedade.|\n",
        "|**longitude**|Coordenada da longitude da propriedade.|\n",
        "|**room_type**|Tipo de acomodação que é oferecida.|\n",
        "|**price**|Valor do alugel (em euros) por noite.|\n",
        "|**minimum_nights**|Número mínimo de noites a serem reservadas.|\n",
        "|**number_of_reviews**|Número total de avaliações da propriedade.|\n",
        "|**last_review**|Data da última avaliação.|\n",
        "|**reviews_per_month**|Quantidade de avaliações recebidas por mês.|\n",
        "|**calculated_host_listings_count**|Número de imóveis anunciados do mesmo anfitrião.|\n",
        "|**availability_365**|Número de dias disponíveis no período de um ano.|\n",
        "\n",
        "Para esse projeto, as variáveis de interesse são: `id`, `name`, `host_name`, `neighbourhood`, `latitude`, `longitude`, `room_type`, `price` e `minimum_nights`. Todas elas estão com seus tipos dentro do adequado, como mostrado acima."
      ]
    },
    {
      "cell_type": "code",
      "metadata": {
        "colab": {
          "base_uri": "https://localhost:8080/"
        },
        "id": "Ic8A2WvSHHVz",
        "outputId": "6f6f1876-6ed5-47be-f61a-e87369c1bbb9"
      },
      "source": [
        "# tipos de acomodações\n",
        "df.room_type.value_counts()"
      ],
      "execution_count": null,
      "outputs": [
        {
          "output_type": "execute_result",
          "data": {
            "text/plain": [
              "Entire home/apt    2874\n",
              "Private room       2034\n",
              "Shared room          76\n",
              "Hotel room           55\n",
              "Name: room_type, dtype: int64"
            ]
          },
          "metadata": {},
          "execution_count": 5
        }
      ]
    },
    {
      "cell_type": "code",
      "metadata": {
        "colab": {
          "base_uri": "https://localhost:8080/"
        },
        "id": "Jv8yTar3HVxc",
        "outputId": "94b1b06b-7a52-48f3-8545-71b9a2decd8a"
      },
      "source": [
        "# bairros\n",
        "df.neighbourhood.value_counts()"
      ],
      "execution_count": null,
      "outputs": [
        {
          "output_type": "execute_result",
          "data": {
            "text/plain": [
              "Ludwigsvorstadt-Isarvorstadt                              564\n",
              "Maxvorstadt                                               409\n",
              "Schwabing-West                                            371\n",
              "Schwabing-Freimann                                        300\n",
              "Au-Haidhausen                                             296\n",
              "Neuhausen-Nymphenburg                                     288\n",
              "Bogenhausen                                               252\n",
              "Ramersdorf-Perlach                                        212\n",
              "Milbertshofen-Am Hart                                     209\n",
              "Thalkirchen-Obersendling-Forstenried-Fürstenried-Solln    205\n",
              "Sendling-Westpark                                         197\n",
              "Obergiesing                                               190\n",
              "Tudering-Riem                                             181\n",
              "Sendling                                                  178\n",
              "Altstadt-Lehel                                            173\n",
              "Schwanthalerhöhe                                          172\n",
              "Untergiesing-Harlaching                                   141\n",
              "Laim                                                      140\n",
              "Pasing-Obermenzing                                        128\n",
              "Moosach                                                   127\n",
              "Berg am Laim                                               89\n",
              "Feldmoching-Hasenbergl                                     67\n",
              "Hadern                                                     53\n",
              "Aubing-Lochhausen-Langwied                                 49\n",
              "Allach-Untermenzing                                        48\n",
              "Name: neighbourhood, dtype: int64"
            ]
          },
          "metadata": {},
          "execution_count": 6
        }
      ]
    },
    {
      "cell_type": "markdown",
      "metadata": {
        "id": "yz1urSUGW9iE"
      },
      "source": [
        "### **Q2. Qual a porcentagem de valores ausentes no *dataset*?**\n",
        "\n",
        "Aqui podemos perceber que existem sim dados faltantes nesse dataset. Mas...\n",
        "\n",
        "> #### **Será que esses valores nulos serão um problema para o nosso objetivo de análise?**\n",
        "\n",
        "Dois pontos devem ser avaliados:\n",
        "\n",
        "- Para `reviews_per_month` e `last_review` percebemos que há uma porcentagem elevada de dados faltantes, totalizando **25,24%**. No entanto, essa variável pouco importa para a análise estratégica que foi colocada como objetivo. Portanto, essas colunas podem ser apenas deletadas.\n",
        "\n",
        "- Já `host_name` e `name` são sim relevantes para a nossa conclusão final, já que além de identificar qual o melhor bairro em termos de custo-benefício, também podemos ser mais específicos e apontar o melhor imóvel/host. Como as porcentagens de dados faltantes para essas variáveis são baixas (**0,04% e 0,02%**), podemos excluir essas linhas, sem comprometer a qualidade dos nossos futuros resultados.\n",
        "\n",
        "Além do exposto acima, também notamos que a coluna `neighbourhood_group` está totalmente vazia, podendo ser excluída.\n"
      ]
    },
    {
      "cell_type": "code",
      "metadata": {
        "id": "plk2FjbCXOqP",
        "colab": {
          "base_uri": "https://localhost:8080/"
        },
        "outputId": "fc347892-aaa7-4695-e42e-a1c53eee4d82"
      },
      "source": [
        "# porcentagem de valores ausentes para cada variável\n",
        "((df.isnull().sum() / df.shape[0])*100).sort_values(ascending=False)"
      ],
      "execution_count": null,
      "outputs": [
        {
          "output_type": "execute_result",
          "data": {
            "text/plain": [
              "neighbourhood_group               100.000000\n",
              "reviews_per_month                  25.243104\n",
              "last_review                        25.243104\n",
              "host_name                           0.039690\n",
              "name                                0.019845\n",
              "availability_365                    0.000000\n",
              "calculated_host_listings_count      0.000000\n",
              "number_of_reviews                   0.000000\n",
              "minimum_nights                      0.000000\n",
              "price                               0.000000\n",
              "room_type                           0.000000\n",
              "longitude                           0.000000\n",
              "latitude                            0.000000\n",
              "neighbourhood                       0.000000\n",
              "host_id                             0.000000\n",
              "id                                  0.000000\n",
              "dtype: float64"
            ]
          },
          "metadata": {},
          "execution_count": 7
        }
      ]
    },
    {
      "cell_type": "code",
      "metadata": {
        "id": "0dspRay85jh9"
      },
      "source": [
        "# copiando o dataset original\n",
        "df_clean = df.copy()\n",
        "\n",
        "# eliminando colunas indesejadas\n",
        "df_clean.drop(['neighbourhood_group', 'reviews_per_month', 'last_review', 'availability_365', 'calculated_host_listings_count', 'number_of_reviews'], axis=1, inplace=True)\n",
        "\n",
        "# eliminando linhas com valores nulos\n",
        "df_clean.dropna(subset=['host_name', 'name'], inplace=True)"
      ],
      "execution_count": null,
      "outputs": []
    },
    {
      "cell_type": "code",
      "metadata": {
        "colab": {
          "base_uri": "https://localhost:8080/"
        },
        "id": "EcG_JD2S7opS",
        "outputId": "223e7c74-5ccf-4015-9e36-c90444fcff93"
      },
      "source": [
        "# avaliando antes e depois\n",
        "print('Número de linhas antes: {}'.format(df.shape[0]))\n",
        "print('Número de linhas depois: {}'.format(df_clean.shape[0]))"
      ],
      "execution_count": null,
      "outputs": [
        {
          "output_type": "stream",
          "name": "stdout",
          "text": [
            "Número de linhas antes: 5039\n",
            "Número de linhas depois: 5036\n"
          ]
        }
      ]
    },
    {
      "cell_type": "code",
      "metadata": {
        "colab": {
          "base_uri": "https://localhost:8080/",
          "height": 205
        },
        "id": "q0PTdNm3GSlb",
        "outputId": "0383b39f-2d2f-4dee-d767-06702aa0f1e4"
      },
      "source": [
        "# exibir novo dataset\n",
        "df_clean.head()"
      ],
      "execution_count": null,
      "outputs": [
        {
          "output_type": "execute_result",
          "data": {
            "text/html": [
              "<div>\n",
              "<style scoped>\n",
              "    .dataframe tbody tr th:only-of-type {\n",
              "        vertical-align: middle;\n",
              "    }\n",
              "\n",
              "    .dataframe tbody tr th {\n",
              "        vertical-align: top;\n",
              "    }\n",
              "\n",
              "    .dataframe thead th {\n",
              "        text-align: right;\n",
              "    }\n",
              "</style>\n",
              "<table border=\"1\" class=\"dataframe\">\n",
              "  <thead>\n",
              "    <tr style=\"text-align: right;\">\n",
              "      <th></th>\n",
              "      <th>id</th>\n",
              "      <th>name</th>\n",
              "      <th>host_id</th>\n",
              "      <th>host_name</th>\n",
              "      <th>neighbourhood</th>\n",
              "      <th>latitude</th>\n",
              "      <th>longitude</th>\n",
              "      <th>room_type</th>\n",
              "      <th>price</th>\n",
              "      <th>minimum_nights</th>\n",
              "    </tr>\n",
              "  </thead>\n",
              "  <tbody>\n",
              "    <tr>\n",
              "      <th>0</th>\n",
              "      <td>97945</td>\n",
              "      <td>Deluxw-Apartm. with roof terrace</td>\n",
              "      <td>517685</td>\n",
              "      <td>Angelika</td>\n",
              "      <td>Hadern</td>\n",
              "      <td>48.11492</td>\n",
              "      <td>11.48954</td>\n",
              "      <td>Entire home/apt</td>\n",
              "      <td>80</td>\n",
              "      <td>2</td>\n",
              "    </tr>\n",
              "    <tr>\n",
              "      <th>1</th>\n",
              "      <td>114695</td>\n",
              "      <td>Apartment Munich/East with sundeck</td>\n",
              "      <td>581737</td>\n",
              "      <td>Stephan</td>\n",
              "      <td>Berg am Laim</td>\n",
              "      <td>48.12071</td>\n",
              "      <td>11.63758</td>\n",
              "      <td>Entire home/apt</td>\n",
              "      <td>95</td>\n",
              "      <td>2</td>\n",
              "    </tr>\n",
              "    <tr>\n",
              "      <th>2</th>\n",
              "      <td>127383</td>\n",
              "      <td>City apartment next to Pinakothek</td>\n",
              "      <td>630556</td>\n",
              "      <td>Sonja</td>\n",
              "      <td>Maxvorstadt</td>\n",
              "      <td>48.15199</td>\n",
              "      <td>11.56482</td>\n",
              "      <td>Entire home/apt</td>\n",
              "      <td>99</td>\n",
              "      <td>2</td>\n",
              "    </tr>\n",
              "    <tr>\n",
              "      <th>3</th>\n",
              "      <td>159634</td>\n",
              "      <td>Fancy, bright central roof top flat</td>\n",
              "      <td>765694</td>\n",
              "      <td>Sanna</td>\n",
              "      <td>Pasing-Obermenzing</td>\n",
              "      <td>48.13855</td>\n",
              "      <td>11.46586</td>\n",
              "      <td>Entire home/apt</td>\n",
              "      <td>52</td>\n",
              "      <td>5</td>\n",
              "    </tr>\n",
              "    <tr>\n",
              "      <th>4</th>\n",
              "      <td>170154</td>\n",
              "      <td>Own floor &amp; bath, parking &amp; breakfast</td>\n",
              "      <td>108297</td>\n",
              "      <td>Alex</td>\n",
              "      <td>Sendling-Westpark</td>\n",
              "      <td>48.10814</td>\n",
              "      <td>11.52733</td>\n",
              "      <td>Private room</td>\n",
              "      <td>55</td>\n",
              "      <td>2</td>\n",
              "    </tr>\n",
              "  </tbody>\n",
              "</table>\n",
              "</div>"
            ],
            "text/plain": [
              "       id                                   name  ...  price minimum_nights\n",
              "0   97945       Deluxw-Apartm. with roof terrace  ...     80              2\n",
              "1  114695     Apartment Munich/East with sundeck  ...     95              2\n",
              "2  127383      City apartment next to Pinakothek  ...     99              2\n",
              "3  159634    Fancy, bright central roof top flat  ...     52              5\n",
              "4  170154  Own floor & bath, parking & breakfast  ...     55              2\n",
              "\n",
              "[5 rows x 10 columns]"
            ]
          },
          "metadata": {},
          "execution_count": 10
        }
      ]
    },
    {
      "cell_type": "markdown",
      "metadata": {
        "id": "iHXvvHIxaoNc"
      },
      "source": [
        "### **Q3. Como essas variáveis se comportam?**\n",
        "\n",
        "Olhando para os principais atributos, é possível perceber que para `price` e `minimum_nights` existe uma presença marcante de outliers.\n",
        "\n",
        "Vemos que existem valores muito fora daqueles observados em maioria para essas variáveis. Em `price` existem imóveis que chegam a custar 12.000 euros! Já para `minimum_nights`, alguns valores chegam a passar dos 400 dias.\n",
        "\n",
        "Todos esses dados discrepantes estão fora da realidade da nossa dupla de turistas."
      ]
    },
    {
      "cell_type": "code",
      "metadata": {
        "id": "q2wWSfeRbmBo",
        "colab": {
          "base_uri": "https://localhost:8080/",
          "height": 607
        },
        "outputId": "696e0a5c-2984-4c49-a174-4aaa15c29489"
      },
      "source": [
        "# plotar o histograma das variáveis numéricas\n",
        "df_clean.hist(grid=False ,figsize=(13,10), ec='black');"
      ],
      "execution_count": null,
      "outputs": [
        {
          "output_type": "display_data",
          "data": {
            "image/png": "[encoded data removed]",
            "text/plain": [
              "<Figure size 936x720 with 9 Axes>"
            ]
          },
          "metadata": {
            "needs_background": "light"
          }
        }
      ]
    },
    {
      "cell_type": "markdown",
      "metadata": {
        "id": "zPIn744c-n2m"
      },
      "source": [
        "#### **Lidando com os outliers**\n",
        "\n",
        "Como forma de lapidar os nossos dados e trazer eles para mais perto da realidade que queremos explorar, vamos entender como esses outliers estão impactando em nossas métricas e o que podemos fazer com eles.\n",
        "\n",
        "Logo na tabela seguinte podemos ver que para `price` e `minimum_nights` os valores de média e mediana (50%) estão consideravelmente distantes, reforçando o impacto desses outliers."
      ]
    },
    {
      "cell_type": "code",
      "metadata": {
        "colab": {
          "base_uri": "https://localhost:8080/",
          "height": 299
        },
        "id": "kJ8EYtGv5IgA",
        "outputId": "bb9fe936-faf3-472f-8736-f47738bc29e1"
      },
      "source": [
        "# tabela de estatísticas\n",
        "df_clean.describe()"
      ],
      "execution_count": null,
      "outputs": [
        {
          "output_type": "execute_result",
          "data": {
            "text/html": [
              "<div>\n",
              "<style scoped>\n",
              "    .dataframe tbody tr th:only-of-type {\n",
              "        vertical-align: middle;\n",
              "    }\n",
              "\n",
              "    .dataframe tbody tr th {\n",
              "        vertical-align: top;\n",
              "    }\n",
              "\n",
              "    .dataframe thead th {\n",
              "        text-align: right;\n",
              "    }\n",
              "</style>\n",
              "<table border=\"1\" class=\"dataframe\">\n",
              "  <thead>\n",
              "    <tr style=\"text-align: right;\">\n",
              "      <th></th>\n",
              "      <th>id</th>\n",
              "      <th>host_id</th>\n",
              "      <th>latitude</th>\n",
              "      <th>longitude</th>\n",
              "      <th>price</th>\n",
              "      <th>minimum_nights</th>\n",
              "    </tr>\n",
              "  </thead>\n",
              "  <tbody>\n",
              "    <tr>\n",
              "      <th>count</th>\n",
              "      <td>5.036000e+03</td>\n",
              "      <td>5.036000e+03</td>\n",
              "      <td>5036.000000</td>\n",
              "      <td>5036.000000</td>\n",
              "      <td>5036.000000</td>\n",
              "      <td>5036.000000</td>\n",
              "    </tr>\n",
              "    <tr>\n",
              "      <th>mean</th>\n",
              "      <td>2.868095e+07</td>\n",
              "      <td>1.193476e+08</td>\n",
              "      <td>48.140659</td>\n",
              "      <td>11.565586</td>\n",
              "      <td>118.521048</td>\n",
              "      <td>8.445393</td>\n",
              "    </tr>\n",
              "    <tr>\n",
              "      <th>std</th>\n",
              "      <td>1.484000e+07</td>\n",
              "      <td>1.199491e+08</td>\n",
              "      <td>0.026334</td>\n",
              "      <td>0.046757</td>\n",
              "      <td>269.944353</td>\n",
              "      <td>27.684146</td>\n",
              "    </tr>\n",
              "    <tr>\n",
              "      <th>min</th>\n",
              "      <td>9.794500e+04</td>\n",
              "      <td>3.735400e+04</td>\n",
              "      <td>48.063530</td>\n",
              "      <td>11.385190</td>\n",
              "      <td>0.000000</td>\n",
              "      <td>1.000000</td>\n",
              "    </tr>\n",
              "    <tr>\n",
              "      <th>25%</th>\n",
              "      <td>1.734938e+07</td>\n",
              "      <td>1.635914e+07</td>\n",
              "      <td>48.122703</td>\n",
              "      <td>11.539987</td>\n",
              "      <td>50.000000</td>\n",
              "      <td>1.000000</td>\n",
              "    </tr>\n",
              "    <tr>\n",
              "      <th>50%</th>\n",
              "      <td>3.170562e+07</td>\n",
              "      <td>6.712316e+07</td>\n",
              "      <td>48.137663</td>\n",
              "      <td>11.565890</td>\n",
              "      <td>80.000000</td>\n",
              "      <td>2.000000</td>\n",
              "    </tr>\n",
              "    <tr>\n",
              "      <th>75%</th>\n",
              "      <td>4.034995e+07</td>\n",
              "      <td>2.147751e+08</td>\n",
              "      <td>48.158372</td>\n",
              "      <td>11.587203</td>\n",
              "      <td>130.000000</td>\n",
              "      <td>4.000000</td>\n",
              "    </tr>\n",
              "    <tr>\n",
              "      <th>max</th>\n",
              "      <td>5.072065e+07</td>\n",
              "      <td>4.098239e+08</td>\n",
              "      <td>48.229500</td>\n",
              "      <td>11.711980</td>\n",
              "      <td>11999.000000</td>\n",
              "      <td>800.000000</td>\n",
              "    </tr>\n",
              "  </tbody>\n",
              "</table>\n",
              "</div>"
            ],
            "text/plain": [
              "                 id       host_id  ...         price  minimum_nights\n",
              "count  5.036000e+03  5.036000e+03  ...   5036.000000     5036.000000\n",
              "mean   2.868095e+07  1.193476e+08  ...    118.521048        8.445393\n",
              "std    1.484000e+07  1.199491e+08  ...    269.944353       27.684146\n",
              "min    9.794500e+04  3.735400e+04  ...      0.000000        1.000000\n",
              "25%    1.734938e+07  1.635914e+07  ...     50.000000        1.000000\n",
              "50%    3.170562e+07  6.712316e+07  ...     80.000000        2.000000\n",
              "75%    4.034995e+07  2.147751e+08  ...    130.000000        4.000000\n",
              "max    5.072065e+07  4.098239e+08  ...  11999.000000      800.000000\n",
              "\n",
              "[8 rows x 6 columns]"
            ]
          },
          "metadata": {},
          "execution_count": 12
        }
      ]
    },
    {
      "cell_type": "code",
      "metadata": {
        "colab": {
          "base_uri": "https://localhost:8080/",
          "height": 297
        },
        "id": "lGvETfiJAanf",
        "outputId": "45eb5607-53ef-4942-ddfe-3b907d484c1c"
      },
      "source": [
        "# plotando o boxplot\n",
        "plt.figure('Boxplot Price', figsize=(15,2))\n",
        "plt.boxplot(x=df_clean['price'], vert=False);\n",
        "\n",
        "plt.figure('Boxplot Minimum Nights', figsize=(15,2))\n",
        "plt.boxplot(x=df_clean['minimum_nights'], vert=False);"
      ],
      "execution_count": null,
      "outputs": [
        {
          "output_type": "display_data",
          "data": {
            "image/png": "[encoded data removed]",
            "text/plain": [
              "<Figure size 1080x144 with 1 Axes>"
            ]
          },
          "metadata": {
            "needs_background": "light"
          }
        },
        {
          "output_type": "display_data",
          "data": {
            "image/png": "[encoded data removed]",
            "text/plain": [
              "<Figure size 1080x144 with 1 Axes>"
            ]
          },
          "metadata": {
            "needs_background": "light"
          }
        }
      ]
    },
    {
      "cell_type": "markdown",
      "metadata": {
        "id": "kpwDW5F1I2Dp"
      },
      "source": [
        "**Critério IQR Score**\n",
        "\n",
        "Usaremos esse método como forma de identificar esses outliers e eliminá-los. \n",
        "\n",
        "Seu passo a passo é o seguinte:\n",
        "- Cálculo do range entre o primeiro e terceiro quartil.\n",
        "\n",
        " **IQR = Q3 - Q1**\n",
        "- Cálculo dos limites superior e inferior.\n",
        "\n",
        " **limite inferior = Q1 - 1,5xIQR**\n",
        " \n",
        " **limite inferior = Q3 + 1,5xIQR**\n",
        "- Identificar valores que extrapolam esses limites.\n",
        "- Remover outliers"
      ]
    },
    {
      "cell_type": "code",
      "metadata": {
        "colab": {
          "base_uri": "https://localhost:8080/"
        },
        "id": "f9oWeuBKR21V",
        "outputId": "ef38521e-4249-4d4e-c236-48e26562082d"
      },
      "source": [
        "# cálulo do IQR para price e minimum_nights\n",
        "iqr_price = df_clean.price.quantile(.75) - df_clean.price.quantile(.25)\n",
        "iqr_min_n = df_clean.minimum_nights.quantile(.75) - df_clean.minimum_nights.quantile(.25)\n",
        "\n",
        "# definindo os limites\n",
        "sup_price = df_clean.price.quantile(.75) + 1.5*iqr_price\n",
        "inf_price = df_clean.price.quantile(.25) - 1.5*iqr_price\n",
        "\n",
        "sup_min_n = df_clean.minimum_nights.quantile(.75) + 1.5*iqr_min_n\n",
        "inf_min_n = df_clean.minimum_nights.quantile(.25) - 1.5*iqr_min_n\n",
        "\n",
        "# exibindo resultado\n",
        "print('Para price: IRQ = {}, sup_price = {} e inf_price = {}'.format(iqr_price, sup_price, inf_price))\n",
        "print('Para minimum_nights: IQR = {}, sup_min_n = {} e inf_min_n = {}'.format(iqr_min_n, sup_min_n, inf_min_n))"
      ],
      "execution_count": null,
      "outputs": [
        {
          "output_type": "stream",
          "name": "stdout",
          "text": [
            "Para price: IRQ = 80.0, sup_price = 250.0 e inf_price = -70.0\n",
            "Para minimum_nights: IQR = 3.0, sup_min_n = 8.5 e inf_min_n = -3.5\n"
          ]
        }
      ]
    },
    {
      "cell_type": "markdown",
      "metadata": {
        "id": "eLh2a1xkjcwb"
      },
      "source": [
        "Como sabemos, valores negativos para `price` e `minimum_nights` não são possíveis, por isso iremos considerar que o nosso **limite inferior será aberto em zero**, já que imóveis com valor zero para essas variáveis não fazem sentido."
      ]
    },
    {
      "cell_type": "code",
      "metadata": {
        "colab": {
          "base_uri": "https://localhost:8080/"
        },
        "id": "MMO9tnv2kPPy",
        "outputId": "81aafbac-ca20-45fa-a59d-ea6b74305574"
      },
      "source": [
        "# contabilizando outliers\n",
        "count_sup_price = (df_clean['price'] > sup_price).value_counts()[1]\n",
        "count_inf_price = (df_clean['price'] == 0).value_counts()[1]\n",
        "count_sup_mn = (df_clean['minimum_nights'] > sup_min_n).value_counts()[1]\n",
        "\n",
        "# resultado\n",
        "print(f\"A varável price possui {count_sup_price+count_inf_price} outliers.\\n\")\n",
        "print(f\"A varável minimum_nights possui {count_sup_mn} outliers.\\n\")\n",
        "\n",
        "# shape de df_clean\n",
        "df_clean.shape"
      ],
      "execution_count": null,
      "outputs": [
        {
          "output_type": "stream",
          "name": "stdout",
          "text": [
            "A varável price possui 324 outliers.\n",
            "\n",
            "A varável minimum_nights possui 692 outliers.\n",
            "\n"
          ]
        },
        {
          "output_type": "execute_result",
          "data": {
            "text/plain": [
              "(5036, 10)"
            ]
          },
          "metadata": {},
          "execution_count": 15
        }
      ]
    },
    {
      "cell_type": "code",
      "metadata": {
        "colab": {
          "base_uri": "https://localhost:8080/"
        },
        "id": "irhSp4r3n5wL",
        "outputId": "82d7d1c2-f57c-4c81-9e06-aa1f518ed6fd"
      },
      "source": [
        "# eliminando outliers\n",
        "df_clean.drop(df_clean[df_clean.price > sup_price].index, axis=0, inplace=True)\n",
        "df_clean.drop(df_clean[df_clean.price == 0.0].index, axis=0, inplace=True)\n",
        "df_clean.drop(df_clean[df_clean.minimum_nights > sup_min_n].index, axis=0, inplace=True)\n",
        "\n",
        "# verificando novo shape de df_clean\n",
        "df_clean.shape"
      ],
      "execution_count": null,
      "outputs": [
        {
          "output_type": "execute_result",
          "data": {
            "text/plain": [
              "(4031, 10)"
            ]
          },
          "metadata": {},
          "execution_count": 16
        }
      ]
    },
    {
      "cell_type": "code",
      "metadata": {
        "colab": {
          "base_uri": "https://localhost:8080/",
          "height": 297
        },
        "id": "k0kgGJu4skMM",
        "outputId": "363e4c7a-f4eb-4715-8e0c-d662746ab849"
      },
      "source": [
        "# plotando o boxplot do dataset limpo\n",
        "plt.figure('Boxplot Price', figsize=(15,2))\n",
        "plt.boxplot(x=df_clean['price'], vert=False);\n",
        "\n",
        "plt.figure('Boxplot Minimum Nights', figsize=(15,2))\n",
        "plt.boxplot(x=df_clean['minimum_nights'], vert=False);"
      ],
      "execution_count": null,
      "outputs": [
        {
          "output_type": "display_data",
          "data": {
            "image/png": "[encoded data removed]",
            "text/plain": [
              "<Figure size 1080x144 with 1 Axes>"
            ]
          },
          "metadata": {
            "needs_background": "light"
          }
        },
        {
          "output_type": "display_data",
          "data": {
            "image/png": "[encoded data removed]",
            "text/plain": [
              "<Figure size 1080x144 with 1 Axes>"
            ]
          },
          "metadata": {
            "needs_background": "light"
          }
        }
      ]
    },
    {
      "cell_type": "code",
      "metadata": {
        "colab": {
          "base_uri": "https://localhost:8080/",
          "height": 299
        },
        "id": "ApZ4Ou-nwIAv",
        "outputId": "3d7ac606-04cb-4484-877b-2f215864094a"
      },
      "source": [
        "# estatística dos dados tratados\n",
        "df_clean.describe()"
      ],
      "execution_count": null,
      "outputs": [
        {
          "output_type": "execute_result",
          "data": {
            "text/html": [
              "<div>\n",
              "<style scoped>\n",
              "    .dataframe tbody tr th:only-of-type {\n",
              "        vertical-align: middle;\n",
              "    }\n",
              "\n",
              "    .dataframe tbody tr th {\n",
              "        vertical-align: top;\n",
              "    }\n",
              "\n",
              "    .dataframe thead th {\n",
              "        text-align: right;\n",
              "    }\n",
              "</style>\n",
              "<table border=\"1\" class=\"dataframe\">\n",
              "  <thead>\n",
              "    <tr style=\"text-align: right;\">\n",
              "      <th></th>\n",
              "      <th>id</th>\n",
              "      <th>host_id</th>\n",
              "      <th>latitude</th>\n",
              "      <th>longitude</th>\n",
              "      <th>price</th>\n",
              "      <th>minimum_nights</th>\n",
              "    </tr>\n",
              "  </thead>\n",
              "  <tbody>\n",
              "    <tr>\n",
              "      <th>count</th>\n",
              "      <td>4.031000e+03</td>\n",
              "      <td>4.031000e+03</td>\n",
              "      <td>4031.000000</td>\n",
              "      <td>4031.000000</td>\n",
              "      <td>4031.000000</td>\n",
              "      <td>4031.000000</td>\n",
              "    </tr>\n",
              "    <tr>\n",
              "      <th>mean</th>\n",
              "      <td>2.860618e+07</td>\n",
              "      <td>1.201016e+08</td>\n",
              "      <td>48.141137</td>\n",
              "      <td>11.565637</td>\n",
              "      <td>94.465145</td>\n",
              "      <td>2.278095</td>\n",
              "    </tr>\n",
              "    <tr>\n",
              "      <th>std</th>\n",
              "      <td>1.471174e+07</td>\n",
              "      <td>1.188932e+08</td>\n",
              "      <td>0.026651</td>\n",
              "      <td>0.047514</td>\n",
              "      <td>52.657701</td>\n",
              "      <td>1.542392</td>\n",
              "    </tr>\n",
              "    <tr>\n",
              "      <th>min</th>\n",
              "      <td>9.794500e+04</td>\n",
              "      <td>3.735400e+04</td>\n",
              "      <td>48.063530</td>\n",
              "      <td>11.385190</td>\n",
              "      <td>12.000000</td>\n",
              "      <td>1.000000</td>\n",
              "    </tr>\n",
              "    <tr>\n",
              "      <th>25%</th>\n",
              "      <td>1.778180e+07</td>\n",
              "      <td>1.803457e+07</td>\n",
              "      <td>48.123115</td>\n",
              "      <td>11.540467</td>\n",
              "      <td>52.000000</td>\n",
              "      <td>1.000000</td>\n",
              "    </tr>\n",
              "    <tr>\n",
              "      <th>50%</th>\n",
              "      <td>3.155024e+07</td>\n",
              "      <td>7.153995e+07</td>\n",
              "      <td>48.137940</td>\n",
              "      <td>11.566440</td>\n",
              "      <td>80.000000</td>\n",
              "      <td>2.000000</td>\n",
              "    </tr>\n",
              "    <tr>\n",
              "      <th>75%</th>\n",
              "      <td>3.974551e+07</td>\n",
              "      <td>2.160649e+08</td>\n",
              "      <td>48.159110</td>\n",
              "      <td>11.587615</td>\n",
              "      <td>123.000000</td>\n",
              "      <td>3.000000</td>\n",
              "    </tr>\n",
              "    <tr>\n",
              "      <th>max</th>\n",
              "      <td>5.072065e+07</td>\n",
              "      <td>4.098239e+08</td>\n",
              "      <td>48.229500</td>\n",
              "      <td>11.711980</td>\n",
              "      <td>250.000000</td>\n",
              "      <td>8.000000</td>\n",
              "    </tr>\n",
              "  </tbody>\n",
              "</table>\n",
              "</div>"
            ],
            "text/plain": [
              "                 id       host_id  ...        price  minimum_nights\n",
              "count  4.031000e+03  4.031000e+03  ...  4031.000000     4031.000000\n",
              "mean   2.860618e+07  1.201016e+08  ...    94.465145        2.278095\n",
              "std    1.471174e+07  1.188932e+08  ...    52.657701        1.542392\n",
              "min    9.794500e+04  3.735400e+04  ...    12.000000        1.000000\n",
              "25%    1.778180e+07  1.803457e+07  ...    52.000000        1.000000\n",
              "50%    3.155024e+07  7.153995e+07  ...    80.000000        2.000000\n",
              "75%    3.974551e+07  2.160649e+08  ...   123.000000        3.000000\n",
              "max    5.072065e+07  4.098239e+08  ...   250.000000        8.000000\n",
              "\n",
              "[8 rows x 6 columns]"
            ]
          },
          "metadata": {},
          "execution_count": 18
        }
      ]
    },
    {
      "cell_type": "markdown",
      "metadata": {
        "id": "jXriPqs6s55X"
      },
      "source": [
        "Após a limpeza, notamos que foram perdidas cerca de **20%** das linhas do nosso dataset `df_clean`. Esse valor representa sim uma grande perda de dados. No entando, em vista da análise simples que objetivamos fazer, não haverá comprometimento da qualidade do resultado final."
      ]
    },
    {
      "cell_type": "markdown",
      "metadata": {
        "id": "7x4aw1j5wNmn"
      },
      "source": [
        "### **Q4. Qual a média dos preços de aluguel? Quais os bairros mais caros e mais baratos?**\n",
        "\n",
        "Com esse valor médio global de 94,00 euros conseguimos ter um referêncial para a escolha do imóvel. Além disso, podemos ver que a média de valor por bairros mais baratos está bem abaixo da média global, ou seja, esses bairros são fortes candidatos à escolha final."
      ]
    },
    {
      "cell_type": "code",
      "metadata": {
        "id": "ff-8gUahLk-C",
        "colab": {
          "base_uri": "https://localhost:8080/"
        },
        "outputId": "13ee8a60-cfb0-4a1c-ed94-6275a009d886"
      },
      "source": [
        "# ver a média da coluna `price``\n",
        "df_clean.price.mean()"
      ],
      "execution_count": null,
      "outputs": [
        {
          "output_type": "execute_result",
          "data": {
            "text/plain": [
              "94.4651451252791"
            ]
          },
          "metadata": {},
          "execution_count": 19
        }
      ]
    },
    {
      "cell_type": "code",
      "metadata": {
        "colab": {
          "base_uri": "https://localhost:8080/"
        },
        "id": "Rvbnow2ev8fm",
        "outputId": "4c064202-fa58-4c16-9125-a1457ac02f2c"
      },
      "source": [
        "# ver a média da coluna `price` agrupada por bairros mais baratos\n",
        "df_clean.groupby(['neighbourhood']).price.mean().sort_values()[:5]"
      ],
      "execution_count": null,
      "outputs": [
        {
          "output_type": "execute_result",
          "data": {
            "text/plain": [
              "neighbourhood\n",
              "Hadern                    74.260870\n",
              "Feldmoching-Hasenbergl    76.474576\n",
              "Pasing-Obermenzing        76.981308\n",
              "Milbertshofen-Am Hart     77.964072\n",
              "Sendling-Westpark         78.770370\n",
              "Name: price, dtype: float64"
            ]
          },
          "metadata": {},
          "execution_count": 20
        }
      ]
    },
    {
      "cell_type": "code",
      "metadata": {
        "colab": {
          "base_uri": "https://localhost:8080/"
        },
        "id": "H8pJ8eW9d_4P",
        "outputId": "a14d293d-da07-4efc-a779-fbaefb33bad9"
      },
      "source": [
        "# ver a média da coluna `price` agrupada por bairros mais caros\n",
        "df_clean.groupby(['neighbourhood']).price.mean().sort_values(ascending=False)[:5]"
      ],
      "execution_count": null,
      "outputs": [
        {
          "output_type": "execute_result",
          "data": {
            "text/plain": [
              "neighbourhood\n",
              "Altstadt-Lehel                  136.548872\n",
              "Ludwigsvorstadt-Isarvorstadt    112.338747\n",
              "Schwanthalerhöhe                109.340426\n",
              "Maxvorstadt                     107.611111\n",
              "Au-Haidhausen                    97.189300\n",
              "Name: price, dtype: float64"
            ]
          },
          "metadata": {},
          "execution_count": 21
        }
      ]
    },
    {
      "cell_type": "markdown",
      "metadata": {
        "id": "ukJWYjW7ypiZ"
      },
      "source": [
        "### **Q5. Qual a real distância dos imóveis até a Oktoberfest?**\n",
        "\n",
        "Como dito no início do projeto, não queremos apenas descobrir qual é o imóvel mais barato, mas sim aquele que melhor combina custos de hospedagem com o de deslocamento.\n",
        "Para saber o valor dessas distâncias, dispomos das coordenadas de cada anúncio. Basta descobrirmos o valor das coordenadas do local do evento e calcular as distâncias. Vamos lá!\n",
        "\n",
        "Sabemos que desde a sua origem, o evento ocorre no mesmo local, no parque Theresienwiese. Com uma rápida pesquisa no Google Maps podemos descobrir as coordenadas desse local **(48.1333, 11.5500)**.\n",
        "\n",
        "![](https://github.com/anaprataa/portfolio/blob/main/Dados%20do%20Airbnb%20-%20Munique/theresienwiese.png?raw=true)\n",
        "\n",
        "Agora, para o cálculo das distâncias iremos utilizar a **fórmula de Haversine**, uma equação muito utilizada em navegação que nos fornece uma boa base dessas distâncias.\n",
        "\n",
        "Para saber mais sobre Haversine e o cálculo de distâncias entre dois pontos através da linguagem de programação SQL e Python acesse esse [LINK](https://kanoki.org/2019/02/14/how-to-find-distance-between-two-points-based-on-latitude-and-longitude-using-python-and-sql/)."
      ]
    },
    {
      "cell_type": "code",
      "metadata": {
        "id": "-lmrW-zTQnN2"
      },
      "source": [
        "for i, j in [[df_clean.latitude, df_clean.longitude]]:\n",
        "\n",
        "  # coordenadas do evento (em radianos)\n",
        "  lat1 = 48.1333 * pi / 180\n",
        "  lon1 = 11.5500 * pi / 180 \n",
        "  # coordenadas do imóvel (em radianos)\n",
        "  lat2 = i * pi /180\n",
        "  lon2 = j * pi /180\n",
        "\n",
        "  # calculo da distância em quilômetros\n",
        "  d = (np.arccos(np.cos(lat1)*np.cos(lon1)*np.cos(lat2)*np.cos(lon2)+np.cos(lat1)*np.sin(lon1)*np.cos(lat2)*np.sin(lon2)+np.sin(lat1)*np.sin(lat2))*6371)\n",
        "\n",
        "  # armazenamento dos valores\n",
        "  distancias = np.array(d)"
      ],
      "execution_count": null,
      "outputs": []
    },
    {
      "cell_type": "code",
      "metadata": {
        "colab": {
          "base_uri": "https://localhost:8080/",
          "height": 205
        },
        "id": "kW8qcvWlY7et",
        "outputId": "4f1f42a4-4f80-49d0-af9c-caf62c60336f"
      },
      "source": [
        "# criando a coluna 'distancias' no dataframe\n",
        "df_clean['distancias'] = distancias\n",
        "\n",
        "# exibir resultado\n",
        "df_clean.head()"
      ],
      "execution_count": null,
      "outputs": [
        {
          "output_type": "execute_result",
          "data": {
            "text/html": [
              "<div>\n",
              "<style scoped>\n",
              "    .dataframe tbody tr th:only-of-type {\n",
              "        vertical-align: middle;\n",
              "    }\n",
              "\n",
              "    .dataframe tbody tr th {\n",
              "        vertical-align: top;\n",
              "    }\n",
              "\n",
              "    .dataframe thead th {\n",
              "        text-align: right;\n",
              "    }\n",
              "</style>\n",
              "<table border=\"1\" class=\"dataframe\">\n",
              "  <thead>\n",
              "    <tr style=\"text-align: right;\">\n",
              "      <th></th>\n",
              "      <th>id</th>\n",
              "      <th>name</th>\n",
              "      <th>host_id</th>\n",
              "      <th>host_name</th>\n",
              "      <th>neighbourhood</th>\n",
              "      <th>latitude</th>\n",
              "      <th>longitude</th>\n",
              "      <th>room_type</th>\n",
              "      <th>price</th>\n",
              "      <th>minimum_nights</th>\n",
              "      <th>distancias</th>\n",
              "    </tr>\n",
              "  </thead>\n",
              "  <tbody>\n",
              "    <tr>\n",
              "      <th>0</th>\n",
              "      <td>97945</td>\n",
              "      <td>Deluxw-Apartm. with roof terrace</td>\n",
              "      <td>517685</td>\n",
              "      <td>Angelika</td>\n",
              "      <td>Hadern</td>\n",
              "      <td>48.11492</td>\n",
              "      <td>11.48954</td>\n",
              "      <td>Entire home/apt</td>\n",
              "      <td>80</td>\n",
              "      <td>2</td>\n",
              "      <td>4.931103</td>\n",
              "    </tr>\n",
              "    <tr>\n",
              "      <th>1</th>\n",
              "      <td>114695</td>\n",
              "      <td>Apartment Munich/East with sundeck</td>\n",
              "      <td>581737</td>\n",
              "      <td>Stephan</td>\n",
              "      <td>Berg am Laim</td>\n",
              "      <td>48.12071</td>\n",
              "      <td>11.63758</td>\n",
              "      <td>Entire home/apt</td>\n",
              "      <td>95</td>\n",
              "      <td>2</td>\n",
              "      <td>6.649281</td>\n",
              "    </tr>\n",
              "    <tr>\n",
              "      <th>2</th>\n",
              "      <td>127383</td>\n",
              "      <td>City apartment next to Pinakothek</td>\n",
              "      <td>630556</td>\n",
              "      <td>Sonja</td>\n",
              "      <td>Maxvorstadt</td>\n",
              "      <td>48.15199</td>\n",
              "      <td>11.56482</td>\n",
              "      <td>Entire home/apt</td>\n",
              "      <td>99</td>\n",
              "      <td>2</td>\n",
              "      <td>2.351213</td>\n",
              "    </tr>\n",
              "    <tr>\n",
              "      <th>3</th>\n",
              "      <td>159634</td>\n",
              "      <td>Fancy, bright central roof top flat</td>\n",
              "      <td>765694</td>\n",
              "      <td>Sanna</td>\n",
              "      <td>Pasing-Obermenzing</td>\n",
              "      <td>48.13855</td>\n",
              "      <td>11.46586</td>\n",
              "      <td>Entire home/apt</td>\n",
              "      <td>52</td>\n",
              "      <td>5</td>\n",
              "      <td>6.271065</td>\n",
              "    </tr>\n",
              "    <tr>\n",
              "      <th>4</th>\n",
              "      <td>170154</td>\n",
              "      <td>Own floor &amp; bath, parking &amp; breakfast</td>\n",
              "      <td>108297</td>\n",
              "      <td>Alex</td>\n",
              "      <td>Sendling-Westpark</td>\n",
              "      <td>48.10814</td>\n",
              "      <td>11.52733</td>\n",
              "      <td>Private room</td>\n",
              "      <td>55</td>\n",
              "      <td>2</td>\n",
              "      <td>3.264766</td>\n",
              "    </tr>\n",
              "  </tbody>\n",
              "</table>\n",
              "</div>"
            ],
            "text/plain": [
              "       id                                   name  ...  minimum_nights distancias\n",
              "0   97945       Deluxw-Apartm. with roof terrace  ...               2   4.931103\n",
              "1  114695     Apartment Munich/East with sundeck  ...               2   6.649281\n",
              "2  127383      City apartment next to Pinakothek  ...               2   2.351213\n",
              "3  159634    Fancy, bright central roof top flat  ...               5   6.271065\n",
              "4  170154  Own floor & bath, parking & breakfast  ...               2   3.264766\n",
              "\n",
              "[5 rows x 11 columns]"
            ]
          },
          "metadata": {},
          "execution_count": 23
        }
      ]
    },
    {
      "cell_type": "markdown",
      "metadata": {
        "id": "0zt2ad9YbVQj"
      },
      "source": [
        "**Perfekt!**\n",
        "\n",
        "Agora vamos dar uma olhada melhor na distribuição dessas distâncias."
      ]
    },
    {
      "cell_type": "code",
      "metadata": {
        "colab": {
          "base_uri": "https://localhost:8080/",
          "height": 404
        },
        "id": "DVZPh8YnifDR",
        "outputId": "057deebc-3b0e-4da3-c0f4-6296b77a74a7"
      },
      "source": [
        "# histograma das distâncias\n",
        "df_clean['distancias'].hist(figsize = [8, 6], grid=False, ec='black');\n",
        "plt.title('Distâncias até a Oktoberfest');\n",
        "plt.xlabel('Distância (km)');"
      ],
      "execution_count": null,
      "outputs": [
        {
          "output_type": "display_data",
          "data": {
            "image/png": "[encoded data removed]",
            "text/plain": [
              "<Figure size 576x432 with 1 Axes>"
            ]
          },
          "metadata": {
            "needs_background": "light"
          }
        }
      ]
    },
    {
      "cell_type": "code",
      "metadata": {
        "colab": {
          "base_uri": "https://localhost:8080/"
        },
        "id": "ckHe7IH6iJSg",
        "outputId": "553a80d6-ff34-44bd-88e5-c26195d6a6ea"
      },
      "source": [
        "# estatísticas\n",
        "df_clean['distancias'].describe()"
      ],
      "execution_count": null,
      "outputs": [
        {
          "output_type": "execute_result",
          "data": {
            "text/plain": [
              "count    4031.000000\n",
              "mean        4.130459\n",
              "std         2.501197\n",
              "min         0.273119\n",
              "25%         2.284521\n",
              "50%         3.593357\n",
              "75%         5.721747\n",
              "max        13.112109\n",
              "Name: distancias, dtype: float64"
            ]
          },
          "metadata": {},
          "execution_count": 25
        }
      ]
    },
    {
      "cell_type": "markdown",
      "metadata": {
        "id": "IXn2oIo5qx-w"
      },
      "source": [
        "### **Q6. Qual a correlação existente entre as variáveis?**\n",
        "\n",
        "Como esperado, a variável `price` possui uma relação inversa com `distancias`. Imóveis mais distantes de pontos turísticos relevantes tendem a demandar um custo menor com hospedagem. No entanto, nesse nosso caso, essa influência não pode ser considerada forte ou significativa, já que esses valores de correlação estão mais próximos de 0 do que de 1 ou -1."
      ]
    },
    {
      "cell_type": "code",
      "metadata": {
        "id": "x2ayzBajqxyd",
        "colab": {
          "base_uri": "https://localhost:8080/",
          "height": 396
        },
        "outputId": "d870aad2-89dd-45fb-8881-4b1071a1a103"
      },
      "source": [
        "# criar uma matriz de correlação\n",
        "corr = df_clean[['price', 'minimum_nights', 'distancias']].corr()\n",
        "\n",
        "# mostrar a matriz de correlação\n",
        "display(corr)\n",
        "\n",
        "# mostrar heatmap de corr\n",
        "sns.heatmap(corr, cmap='RdBu', fmt='.2f', square=True, linecolor='white', annot=True);"
      ],
      "execution_count": null,
      "outputs": [
        {
          "output_type": "display_data",
          "data": {
            "text/html": [
              "<div>\n",
              "<style scoped>\n",
              "    .dataframe tbody tr th:only-of-type {\n",
              "        vertical-align: middle;\n",
              "    }\n",
              "\n",
              "    .dataframe tbody tr th {\n",
              "        vertical-align: top;\n",
              "    }\n",
              "\n",
              "    .dataframe thead th {\n",
              "        text-align: right;\n",
              "    }\n",
              "</style>\n",
              "<table border=\"1\" class=\"dataframe\">\n",
              "  <thead>\n",
              "    <tr style=\"text-align: right;\">\n",
              "      <th></th>\n",
              "      <th>price</th>\n",
              "      <th>minimum_nights</th>\n",
              "      <th>distancias</th>\n",
              "    </tr>\n",
              "  </thead>\n",
              "  <tbody>\n",
              "    <tr>\n",
              "      <th>price</th>\n",
              "      <td>1.000000</td>\n",
              "      <td>-0.030138</td>\n",
              "      <td>-0.178078</td>\n",
              "    </tr>\n",
              "    <tr>\n",
              "      <th>minimum_nights</th>\n",
              "      <td>-0.030138</td>\n",
              "      <td>1.000000</td>\n",
              "      <td>-0.017223</td>\n",
              "    </tr>\n",
              "    <tr>\n",
              "      <th>distancias</th>\n",
              "      <td>-0.178078</td>\n",
              "      <td>-0.017223</td>\n",
              "      <td>1.000000</td>\n",
              "    </tr>\n",
              "  </tbody>\n",
              "</table>\n",
              "</div>"
            ],
            "text/plain": [
              "                   price  minimum_nights  distancias\n",
              "price           1.000000       -0.030138   -0.178078\n",
              "minimum_nights -0.030138        1.000000   -0.017223\n",
              "distancias     -0.178078       -0.017223    1.000000"
            ]
          },
          "metadata": {}
        },
        {
          "output_type": "display_data",
          "data": {
            "image/png": "[encoded data removed]",
            "text/plain": [
              "<Figure size 432x288 with 2 Axes>"
            ]
          },
          "metadata": {
            "needs_background": "light"
          }
        }
      ]
    },
    {
      "cell_type": "code",
      "metadata": {
        "id": "_VzNhrEgY82N",
        "colab": {
          "base_uri": "https://localhost:8080/",
          "height": 388
        },
        "outputId": "67982496-366d-48c1-c5f2-57859b7824a6"
      },
      "source": [
        "# gráfico de dispersão\n",
        "plt.figure(figsize=[8, 6]);\n",
        "plt.scatter(df_clean['distancias'], df_clean['price']);\n",
        "plt.xlabel('Distância (km)');\n",
        "plt.ylabel('Price (euros)');"
      ],
      "execution_count": null,
      "outputs": [
        {
          "output_type": "display_data",
          "data": {
            "image/png": "[encoded data removed]",
            "text/plain": [
              "<Figure size 576x432 with 1 Axes>"
            ]
          },
          "metadata": {
            "needs_background": "light"
          }
        }
      ]
    },
    {
      "cell_type": "markdown",
      "metadata": {
        "id": "LqGXhUitr10D"
      },
      "source": [
        "### **Q7. Qual o melhor imóvel?**"
      ]
    },
    {
      "cell_type": "markdown",
      "metadata": {
        "id": "TqwSwCA9sFKv"
      },
      "source": [
        "Vamos começar olhando quais bairros ficam mais próximos do evento.\n",
        "\n",
        "Se compararmos a lista dos cinco bairros mais baratos obtidos anteriormente com a nossa nova lista de bairros mais próximos da Oktoberfest, notaremos que nenhum nome está presente em ambas. Então essa primeira estratégia de simplesmente comparar essas tabelas não nos leva à resposta."
      ]
    },
    {
      "cell_type": "code",
      "metadata": {
        "colab": {
          "base_uri": "https://localhost:8080/"
        },
        "id": "zCjWl0dQsP31",
        "outputId": "7a60afb3-6e3c-47a2-d866-f3a08c9c2690"
      },
      "source": [
        "# ver a média da coluna 'distâncias' agrupadas por bairro\n",
        "df_clean.groupby(['neighbourhood']).distancias.mean().sort_values()[:5]"
      ],
      "execution_count": null,
      "outputs": [
        {
          "output_type": "execute_result",
          "data": {
            "text/plain": [
              "neighbourhood\n",
              "Schwanthalerhöhe                0.819871\n",
              "Ludwigsvorstadt-Isarvorstadt    1.209594\n",
              "Sendling                        1.916551\n",
              "Maxvorstadt                     2.302886\n",
              "Altstadt-Lehel                  2.335882\n",
              "Name: distancias, dtype: float64"
            ]
          },
          "metadata": {},
          "execution_count": 28
        }
      ]
    },
    {
      "cell_type": "code",
      "metadata": {
        "colab": {
          "base_uri": "https://localhost:8080/"
        },
        "id": "RJxqZ3JEt0_o",
        "outputId": "438bb87d-dfb5-40c6-8ee0-1c32a551dc5e"
      },
      "source": [
        "# ver a média da coluna `price` agrupada por bairros mais baratos\n",
        "df_clean.groupby(['neighbourhood']).price.mean().sort_values()[:5]"
      ],
      "execution_count": null,
      "outputs": [
        {
          "output_type": "execute_result",
          "data": {
            "text/plain": [
              "neighbourhood\n",
              "Hadern                    74.260870\n",
              "Feldmoching-Hasenbergl    76.474576\n",
              "Pasing-Obermenzing        76.981308\n",
              "Milbertshofen-Am Hart     77.964072\n",
              "Sendling-Westpark         78.770370\n",
              "Name: price, dtype: float64"
            ]
          },
          "metadata": {},
          "execution_count": 29
        }
      ]
    },
    {
      "cell_type": "markdown",
      "metadata": {
        "id": "af0RHqVYv35z"
      },
      "source": [
        "Vamos partir para uma segunda estratégia que será criar uma nova variável chamada `K` que será o resultado da multiplicação entre o valor de `price` e `distancias` de cada imóvel. Os imóveis que apresentarem o **menor valor de `K`** serão considerados as **melhores opções**."
      ]
    },
    {
      "cell_type": "code",
      "metadata": {
        "colab": {
          "base_uri": "https://localhost:8080/"
        },
        "id": "3nEyTViQunlu",
        "outputId": "3e61e0e7-ff6a-4bce-c0a2-4fd888ecef90"
      },
      "source": [
        "# criando a nova variável 'k'\n",
        "df_clean['k'] = df_clean['price'] * df_clean['distancias']\n",
        "df_clean['k'].describe()"
      ],
      "execution_count": null,
      "outputs": [
        {
          "output_type": "execute_result",
          "data": {
            "text/plain": [
              "count    4031.000000\n",
              "mean      366.736145\n",
              "std       302.535990\n",
              "min        16.695000\n",
              "25%       160.110235\n",
              "50%       280.759088\n",
              "75%       477.918904\n",
              "max      2631.975340\n",
              "Name: k, dtype: float64"
            ]
          },
          "metadata": {},
          "execution_count": 35
        }
      ]
    },
    {
      "cell_type": "code",
      "metadata": {
        "colab": {
          "base_uri": "https://localhost:8080/",
          "height": 175
        },
        "id": "HL14MdvxvG1U",
        "outputId": "edfa7165-2860-4a42-f8c2-f93501b18b42"
      },
      "source": [
        "# as IDs dos 5 primeiros imóveis com menor valor de 'k'\n",
        "index = df_clean.groupby(['id']).k.min().sort_values()[:5].index\n",
        "\n",
        "# filtrando os dados com base nas IDs e número de noites mínimas.\n",
        "(df_clean.query('id in @index')).query('minimum_nights <= 4')"
      ],
      "execution_count": null,
      "outputs": [
        {
          "output_type": "execute_result",
          "data": {
            "text/html": [
              "<div>\n",
              "<style scoped>\n",
              "    .dataframe tbody tr th:only-of-type {\n",
              "        vertical-align: middle;\n",
              "    }\n",
              "\n",
              "    .dataframe tbody tr th {\n",
              "        vertical-align: top;\n",
              "    }\n",
              "\n",
              "    .dataframe thead th {\n",
              "        text-align: right;\n",
              "    }\n",
              "</style>\n",
              "<table border=\"1\" class=\"dataframe\">\n",
              "  <thead>\n",
              "    <tr style=\"text-align: right;\">\n",
              "      <th></th>\n",
              "      <th>id</th>\n",
              "      <th>name</th>\n",
              "      <th>host_id</th>\n",
              "      <th>host_name</th>\n",
              "      <th>neighbourhood</th>\n",
              "      <th>latitude</th>\n",
              "      <th>longitude</th>\n",
              "      <th>room_type</th>\n",
              "      <th>price</th>\n",
              "      <th>minimum_nights</th>\n",
              "      <th>distancias</th>\n",
              "      <th>k</th>\n",
              "    </tr>\n",
              "  </thead>\n",
              "  <tbody>\n",
              "    <tr>\n",
              "      <th>782</th>\n",
              "      <td>8628515</td>\n",
              "      <td>Quiet In Historic Building In The Heart Of Mun...</td>\n",
              "      <td>45381837</td>\n",
              "      <td>Patrick</td>\n",
              "      <td>Schwanthalerhöhe</td>\n",
              "      <td>48.136810</td>\n",
              "      <td>11.546020</td>\n",
              "      <td>Private room</td>\n",
              "      <td>36</td>\n",
              "      <td>2</td>\n",
              "      <td>0.489451</td>\n",
              "      <td>17.620230</td>\n",
              "    </tr>\n",
              "    <tr>\n",
              "      <th>4683</th>\n",
              "      <td>48091812</td>\n",
              "      <td>Nice and central room in the heart of  Munich</td>\n",
              "      <td>361996670</td>\n",
              "      <td>Julia</td>\n",
              "      <td>Ludwigsvorstadt-Isarvorstadt</td>\n",
              "      <td>48.133600</td>\n",
              "      <td>11.557590</td>\n",
              "      <td>Private room</td>\n",
              "      <td>30</td>\n",
              "      <td>1</td>\n",
              "      <td>0.564250</td>\n",
              "      <td>16.927513</td>\n",
              "    </tr>\n",
              "    <tr>\n",
              "      <th>4933</th>\n",
              "      <td>50168733</td>\n",
              "      <td>Ein Zimmer in 2-Zi-Wohnung. Bad/Küche Mitbenut...</td>\n",
              "      <td>387542930</td>\n",
              "      <td>Hans</td>\n",
              "      <td>Schwanthalerhöhe</td>\n",
              "      <td>48.137281</td>\n",
              "      <td>11.540463</td>\n",
              "      <td>Private room</td>\n",
              "      <td>20</td>\n",
              "      <td>1</td>\n",
              "      <td>0.834750</td>\n",
              "      <td>16.695000</td>\n",
              "    </tr>\n",
              "    <tr>\n",
              "      <th>4972</th>\n",
              "      <td>50346136</td>\n",
              "      <td>Zentrales Zimmer mit eigenem Bad</td>\n",
              "      <td>92597073</td>\n",
              "      <td>Andrea</td>\n",
              "      <td>Schwanthalerhöhe</td>\n",
              "      <td>48.137277</td>\n",
              "      <td>11.546846</td>\n",
              "      <td>Private room</td>\n",
              "      <td>36</td>\n",
              "      <td>2</td>\n",
              "      <td>0.500280</td>\n",
              "      <td>18.010067</td>\n",
              "    </tr>\n",
              "  </tbody>\n",
              "</table>\n",
              "</div>"
            ],
            "text/plain": [
              "            id  ...          k\n",
              "782    8628515  ...  17.620230\n",
              "4683  48091812  ...  16.927513\n",
              "4933  50168733  ...  16.695000\n",
              "4972  50346136  ...  18.010067\n",
              "\n",
              "[4 rows x 12 columns]"
            ]
          },
          "metadata": {},
          "execution_count": 39
        }
      ]
    },
    {
      "cell_type": "markdown",
      "metadata": {
        "id": "N7Dp-vHsAbc0"
      },
      "source": [
        "Ao observarmos a tabela acima, podemos chegar a conclusão que a melhor opção para as nossas turistas é o imóvel de `id` igual a **50168733** localizado no bairro **Schwanthalerhöhe** e com custo de hospedagem de **20 euros por noite**.\n",
        "\n",
        "![Schwanthalerhöhe](https://github.com/anaprataa/portfolio/blob/main/Dados%20do%20Airbnb%20-%20Munique/cidade.jfif?raw=true)"
      ]
    },
    {
      "cell_type": "markdown",
      "metadata": {
        "id": "GkvAg623RjoR"
      },
      "source": [
        "## **Conclusões**\n"
      ]
    },
    {
      "cell_type": "markdown",
      "metadata": {
        "id": "7kclaBdmGcOP"
      },
      "source": [
        "Através da simples análise exploratória realizada acima foi possível filtrar as melhores opções dentre milhares de dados disponibilizados pela plataforma do Airbnb. Fomos além dos dados disponíveis e criamos novas variáveis para alcançarmos o objetivo final:\n",
        "> **Definir qual Airbnb melhor combina valores de acomodação e distâncias de um ponto turístico de interesse.**\n",
        "\n",
        "Nossas turistas agora poderão ir para um dos maiores eventos culturais do mundo gastando o total de apenas 80 euros com hospedagem e sem a necessidade de gastos adicionais com deslocamento, já que o melhor resultado apresenta uma distância menor que 1 km."
      ]
    },
    {
      "cell_type": "code",
      "metadata": {
        "colab": {
          "base_uri": "https://localhost:8080/",
          "height": 473
        },
        "id": "xiEw57pRqT2b",
        "outputId": "f3abb656-0102-4d19-b111-b10f9dea20d2"
      },
      "source": [
        "# plotar os imóveis pela latitude/longitude e valor\n",
        "df_clean.plot(kind='scatter', x='longitude', y='latitude', alpha=0.4, c=df_clean['price'], s=8,\n",
        "              cmap=plt.get_cmap('jet'), figsize=(12,8));"
      ],
      "execution_count": null,
      "outputs": [
        {
          "output_type": "display_data",
          "data": {
            "image/png": "[encoded data removed]",
            "text/plain": [
              "<Figure size 864x576 with 2 Axes>"
            ]
          },
          "metadata": {
            "needs_background": "light"
          }
        }
      ]
    },
    {
      "cell_type": "markdown",
      "metadata": {
        "id": "rbZ3Hsy9Ypw8"
      },
      "source": [
        "De modo geral, a cidade de Munique demonstra uma ampla heterogeneidade de valores. Podemos encontrar tanto valores baixos quanto altos nas mais diversas localidades, indicando que os tipos de acomodações são bem diversificados em toda a região.\n",
        "\n",
        "Em média, uma pessoa que deseja se hospedar na cidade deverá gastar 94,00 euros por noite. O bairro que apresentou o menor custo médio foi Hadern e o de maior custo médio foi Altstadt-Lehel. O tipo de acomodação mais comum é `Entire home/apt`.\n",
        "\n",
        "Apesar de ter sido feito o tratamento de dados e remoção de outliers, nesse projeto ainda não nos preocupamos em criar um modelo de machine learning. No entanto, futuramente, pode-se desenvolver tal ferramenta como forma de prever o valor final de um imóvel a partir de variáveis como: localização, latitude, longitude, distância, vizinhança e número mínimo de noites."
      ]
    }
  ]
}